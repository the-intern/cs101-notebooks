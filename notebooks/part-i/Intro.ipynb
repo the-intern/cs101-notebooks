{
 "cells": [
  {
   "cell_type": "markdown",
   "id": "87b1a6d2",
   "metadata": {},
   "source": [
    "# CS 101 Notebook"
   ]
  },
  {
   "cell_type": "code",
   "execution_count": null,
   "id": "6bf80adb",
   "metadata": {},
   "outputs": [],
   "source": []
  }
 ],
 "metadata": {
  "kernelspec": {
   "display_name": "Python 310 Env",
   "language": "python",
   "name": "py310"
  },
  "language_info": {
   "codemirror_mode": {
    "name": "ipython",
    "version": 3
   },
   "file_extension": ".py",
   "mimetype": "text/x-python",
   "name": "python",
   "nbconvert_exporter": "python",
   "pygments_lexer": "ipython3",
   "version": "3.10.4"
  }
 },
 "nbformat": 4,
 "nbformat_minor": 5
}
